{
 "cells": [
  {
   "cell_type": "code",
   "execution_count": 1,
   "id": "b3feebb3-2b3b-489e-9f01-bbb6108b9815",
   "metadata": {},
   "outputs": [
    {
     "name": "stdout",
     "output_type": "stream",
     "text": [
      "200\n",
      "b'{\"GET\": 1, \"POST\": 0, \"PUT\": 0}'\n"
     ]
    }
   ],
   "source": [
    "#Test statistics endpoint\n",
    "import pytest\n",
    "import requests\n",
    "r=requests.get(\"http://127.0.0.1:5000\")\n",
    "print(r.status_code)\n",
    "print(r.content)"
   ]
  },
  {
   "cell_type": "code",
   "execution_count": 2,
   "id": "1533160b-eb2b-4a5c-817a-1f42e35303dc",
   "metadata": {},
   "outputs": [
    {
     "name": "stdout",
     "output_type": "stream",
     "text": [
      "500\n"
     ]
    }
   ],
   "source": [
    "#Test the replacement endpoint\n",
    "j={'int1': '3','int2':'5','limit':'16','str1':'fizz','str2':'buzz'}\n",
    "r=requests.post(\"http://127.0.0.1:5000/test\",json=j)\n",
    "print(r.status_code)"
   ]
  },
  {
   "cell_type": "code",
   "execution_count": null,
   "id": "723b39e2-1b80-49e0-acad-37fa82f47e81",
   "metadata": {},
   "outputs": [],
   "source": []
  }
 ],
 "metadata": {
  "kernelspec": {
   "display_name": "Python 3 (ipykernel)",
   "language": "python",
   "name": "python3"
  },
  "language_info": {
   "codemirror_mode": {
    "name": "ipython",
    "version": 3
   },
   "file_extension": ".py",
   "mimetype": "text/x-python",
   "name": "python",
   "nbconvert_exporter": "python",
   "pygments_lexer": "ipython3",
   "version": "3.12.0"
  }
 },
 "nbformat": 4,
 "nbformat_minor": 5
}
